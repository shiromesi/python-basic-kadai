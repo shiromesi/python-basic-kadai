{
  "nbformat": 4,
  "nbformat_minor": 0,
  "metadata": {
    "colab": {
      "provenance": []
    },
    "kernelspec": {
      "name": "python3",
      "display_name": "Python 3"
    },
    "language_info": {
      "name": "python"
    }
  },
  "cells": [
    {
      "cell_type": "code",
      "execution_count": 1,
      "metadata": {
        "colab": {
          "base_uri": "https://localhost:8080/"
        },
        "id": "2DGlblgpYOjX",
        "outputId": "b5512846-e94a-4b5f-c403-52a31d3ad288"
      },
      "outputs": [
        {
          "output_type": "stream",
          "name": "stdout",
          "text": [
            "侍太郎\n",
            "36\n"
          ]
        }
      ],
      "source": [
        "class Human:\n",
        "  #コンストラクタを定義する\n",
        "  def __init__(self,name,age):\n",
        "    self.name=name\n",
        "    self.age=age\n",
        "\n",
        "  #メソッドを定義する\n",
        "  def set_name(self,name):\n",
        "    self.name=name\n",
        "\n",
        "  def show_name(self):\n",
        "    print(self,name)\n",
        "\n",
        "#インスタンス化する\n",
        "human=Human(\"侍太郎\",36)\n",
        "\n",
        "#属性にアクセスし、値を出力する\n",
        "print(human.name)\n",
        "print(human.age)"
      ]
    }
  ]
}